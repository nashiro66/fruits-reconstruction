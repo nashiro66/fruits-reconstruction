{
 "cells": [
  {
   "cell_type": "code",
   "execution_count": 1,
   "metadata": {},
   "outputs": [
    {
     "name": "stdout",
     "output_type": "stream",
     "text": [
      "c:\\Users\\mayuf\\source\\repos\\practical-inverse-rendering-of-textured-and-translucent-appearance\n",
      "c:\\Users\\mayuf\\anaconda3\\envs\\practical-inverse-rendering\\python.exe\n"
     ]
    },
    {
     "data": {
      "text/plain": [
       "'C:\\\\Users\\\\mayuf\\\\source\\\\repos\\\\unbiased-inverse-volume-rendering\\\\mitsuba3\\\\build\\\\Release\\\\python'"
      ]
     },
     "execution_count": 1,
     "metadata": {},
     "output_type": "execute_result"
    }
   ],
   "source": [
    "import os\n",
    "import sys\n",
    "\n",
    "def set_root_path():\n",
    "    if os.getcwd().endswith('figures'): \n",
    "        os.chdir('../')\n",
    "set_root_path()\n",
    "sys.path.append('python/')\n",
    "sys.path = [p for p in sys.path if \"unbiased-inverse-volume-rendering\" not in p]\n",
    "print(os.getcwd())\n",
    "print(sys.executable)\n",
    "os.environ.pop(\"PYTHONPATH\")"
   ]
  },
  {
   "cell_type": "code",
   "execution_count": 2,
   "metadata": {},
   "outputs": [],
   "source": [
    "from pathlib import Path\n",
    "import mitsuba as mi\n",
    "import numpy as np\n",
    "mi.set_variant('cuda_ad_rgb')\n",
    "\n",
    "from practical_reconstruction import optimization_cli\n",
    "from core import integrators\n",
    "from core import bsdfs\n",
    "from core import textures\n",
    "\n",
    "integrators.register()\n",
    "bsdfs.register()\n",
    "textures.register()"
   ]
  },
  {
   "cell_type": "code",
   "execution_count": 3,
   "metadata": {},
   "outputs": [],
   "source": [
    "def _update_light_position(params, camera_idx):\n",
    "\tlight_positions = [\n",
    "[\"4.554923 0.152407 -0.205656 10.582809 0.000000 4.986326 0.036953 4.152369 2.062201 -0.336632 0.454247 -23.212334 0.000000 0.000000 0.000000 1.000000\"],\n",
    "[\"-4.554923 0.846602 0.188041 -9.102048 0.000000 4.559228 -0.205267 16.263325 -2.062202 -1.869947 -0.415339 20.266935 0.000000 0.000000 0.000000 1.000000\"],\n",
    "[\"3.982244 1.183225 0.278239 -13.611968 0.000000 4.601233 -0.195670 15.783475 -3.023530 1.558407 0.366465 -18.823231 0.000000 0.000000 0.000000 1.000000\"],\n",
    "[\"-3.982244 0.160232 -0.301928 15.396410 -0.000000 4.992974 0.026498 4.675113 3.023530 0.211040 -0.397665 19.383238 0.000000 0.000000 0.000000 1.000000\"],\n",
    "[\"4.137138 -1.925474 -0.204368 10.518407 -0.000000 3.639213 -0.342872 23.143600 2.807861 2.837019 0.301119 -15.555934 0.000000 0.000000 0.000000 1.000000\"],\n",
    "[\"-4.137139 -1.110372 0.257898 -12.594914 0.000000 4.592435 0.197726 -3.886291 -2.807860 1.636037 -0.379991 18.499538 0.000000 0.000000 0.000000 1.000000\"],\n",
    "[\"4.354821 2.076192 0.131338 -6.266884 -0.000000 2.673016 -0.422552 27.127579 -2.456732 3.680273 0.232810 -12.140509 0.000000 0.000000 0.000000 1.000000\"],\n",
    "[\"-4.354821 1.501780 -0.194427 10.021350 -0.000001 3.957026 0.305646 -9.282302 2.456732 2.662068 -0.344643 16.732138 0.000000 0.000000 0.000000 1.000000\"],\n",
    "[\"3.334635 -0.561823 -0.368301 18.715048 -0.000000 4.942822 -0.075400 9.770000 3.725615 0.502863 0.329650 -16.982510 0.000000 0.000000 0.000000 1.000000\"],\n",
    "[\"-3.334636 0.731723 0.365305 -17.965258 -0.000000 4.902616 -0.098202 10.910082 -3.725615 -0.654933 -0.326969 15.848438 0.000000 0.000000 0.000000 1.000000\"],\n",
    "[\"3.318174 -0.080402 0.373942 -18.397095 -0.000000 4.998845 0.010748 5.462587 -3.740283 -0.071329 0.331741 -17.087040 0.000000 0.000000 0.000000 1.000000\"],\n",
    "[\"-3.318176 -1.354511 -0.348640 17.732023 0.000000 4.660616 -0.181071 15.053531 3.740282 -1.201649 -0.309295 14.964740 0.000000 0.000000 0.000000 1.000000\"],\n",
    "[\"2.751413 2.757752 0.313441 -15.372048 0.000000 3.753881 -0.330278 22.513916 -4.174892 1.817464 0.206570 -10.828478 0.000000 0.000000 0.000000 1.000000\"],\n",
    "[\"-2.751414 1.519408 -0.388859 19.742943 -0.000000 4.657113 0.181970 -3.098490 4.174892 1.001348 -0.256273 12.313642 0.000000 0.000000 0.000000 1.000000\"],\n",
    "[\"2.473057 -2.507945 -0.354883 18.044151 0.000000 4.083273 -0.288563 20.428169 4.345572 1.427267 0.201963 -10.598166 0.000000 0.000000 0.000000 1.000000\"],\n",
    "[\"-2.473057 -1.142926 0.419258 -20.662889 0.000000 4.823967 0.131505 -0.575236 -4.345572 0.650437 -0.238599 11.429943 0.000000 0.000000 0.000000 1.000000\"],\n",
    "[\"3.503841 -1.832380 0.306031 -15.001532 0.000000 4.289815 0.256856 -6.842788 -3.566945 -1.799963 0.300617 -15.530832 0.000000 0.000000 0.000000 1.000000\"],\n",
    "[\"-3.503842 -2.768561 -0.224904 11.545181 -0.000000 3.152609 -0.388086 25.404289 3.566944 -2.719583 -0.220925 10.546243 0.000000 0.000000 0.000000 1.000000\"],\n",
    "[\"2.194997 0.955449 -0.438966 22.248293 -0.000000 4.885610 0.106340 0.683013 4.492436 -0.466831 0.214478 -11.223903 0.000000 0.000000 0.000000 1.000000\"],\n",
    "[\"-2.194998 2.399179 0.379815 -18.690737 -0.000000 4.227269 -0.267024 19.351219 -4.492436 -1.172236 -0.185577 8.778844 0.000000 0.000000 0.000000 1.000000\"],\n",
    "[\"1.691467 1.062233 0.458373 -22.618662 0.000000 4.870918 -0.112879 11.643924 -4.705204 0.381861 0.164780 -8.738997 0.000000 0.000000 0.000000 1.000000\"],\n",
    "[\"-1.691467 -0.569557 -0.467060 23.653021 0.000001 4.963233 -0.060524 9.026206 4.705204 -0.204750 -0.167903 7.895144 0.000000 0.000000 0.000000 1.000000\"],\n",
    "[\"2.195768 -4.129715 -0.176750 9.137499 0.000000 1.967359 -0.459668 28.983416 4.492060 2.018650 0.086397 -4.819869 0.000000 0.000000 0.000000 1.000000\"],\n",
    "[\"-2.195770 -3.276142 0.307335 -15.066760 -0.000000 3.420872 0.364659 -12.232962 -4.492059 1.601415 -0.150229 7.011445 0.000000 0.000000 0.000000 1.000000\"],\n",
    "[\"1.586890 4.247731 0.210679 -10.233948 -0.000000 2.221651 -0.447932 28.396576 -4.741496 1.421636 0.070510 -4.025518 0.000000 0.000000 0.000000 1.000000\"],\n",
    "[\"-1.586891 3.270996 -0.343254 17.462721 0.000000 3.619686 0.344933 -11.246651 4.741495 1.094742 -0.114881 5.244046 0.000000 0.000000 0.000000 1.000000\"],\n",
    "[\"0.973068 -1.466863 -0.467990 23.699492 0.000000 4.771122 -0.149546 13.477283 4.904400 0.291036 0.092853 -5.142629 0.000000 0.000000 0.000000 1.000000\"],\n",
    "[\"-0.973069 0.222220 0.489936 -24.196817 -0.000001 4.994865 -0.022655 7.132752 -4.904400 -0.044091 -0.097207 4.360346 0.000000 0.000000 0.000000 1.000000\"],\n",
    "[\"1.026869 -1.612397 0.462014 -22.800713 0.000000 4.720772 0.164752 -2.237581 -4.893418 -0.338357 0.096952 -5.347619 0.000000 0.000000 0.000000 1.000000\"],\n",
    "[\"-1.026870 -3.095339 -0.379004 19.250206 0.000000 3.872591 -0.316276 21.813789 4.893418 -0.649549 -0.079533 3.476647 0.000000 0.000000 0.000000 1.000000\"],\n",
    "[\"0.767473 2.823286 -0.405463 20.573160 0.000000 4.103258 0.285714 -8.285723 4.940747 -0.438556 0.062983 -3.649141 0.000000 0.000000 0.000000 1.000000\"],\n",
    "[\"-0.767474 4.039787 0.284449 -13.922436 -0.000000 2.878599 -0.408823 26.441174 -4.940747 -0.627523 -0.044185 1.709249 0.000000 0.000000 0.000000 1.000000\"],\n",
    "[\"0.271717 2.694309 0.420320 -20.715988 0.000000 4.209418 -0.269830 19.491480 -4.992611 0.146635 0.022875 -1.643767 0.000000 0.000000 0.000000 1.000000\"],\n",
    "[\"-0.271717 1.094244 -0.487122 24.656107 0.000000 4.878430 0.109586 0.520683 4.992611 0.059553 -0.026511 0.825549 0.000000 0.000000 0.000000 1.000000\"],\n",
    "[\"0.101845 -3.818668 -0.322605 16.430250 0.000000 3.226719 -0.381946 25.097305 4.998962 0.077799 0.006573 -0.828625 0.000000 0.000000 0.000000 1.000000\"],\n",
    "[\"-0.101846 -2.485000 0.433756 -21.387785 0.000001 4.338457 0.248552 -6.427580 -4.998962 0.050628 -0.008837 -0.058150 0.000000 0.000000 0.000000 1.000000\"],\n",
    "[\"-0.478657 0.227147 -0.497185 25.159248 -0.000000 4.994790 0.022820 4.859016 4.977036 0.021846 -0.047816 1.890789 0.000000 0.000000 0.000000 1.000000\"],\n",
    "[\"0.478656 1.913923 0.459432 -22.671608 -0.000000 4.615520 -0.192275 15.613768 -4.977036 0.184067 0.044185 -2.709249 0.000000 0.000000 0.000000 1.000000\"],\n",
    "[\"-0.656736 0.032497 0.495658 -24.482880 -0.000001 4.999892 -0.003278 6.163902 -4.956682 -0.004306 -0.065672 2.783611 0.000000 0.000000 0.000000 1.000000\"],\n",
    "[\"0.656736 -1.664713 -0.466877 23.643858 -0.000000 4.709573 -0.167926 14.396303 4.956682 0.220566 0.061859 -3.592948 0.000000 0.000000 0.000000 1.000000\"],\n",
    "[\"-1.351134 3.781045 0.297962 -14.598101 0.000000 3.094755 -0.392715 25.635742 -4.813983 -1.061220 -0.083629 3.681424 0.000000 0.000000 0.000000 1.000000\"],\n",
    "[\"1.351134 2.533931 -0.409312 20.765602 -0.000000 4.251282 0.263184 -7.159217 4.813983 -0.711195 0.114881 -6.244046 0.000000 0.000000 0.000000 1.000000\"],\n",
    "[\"-1.343589 -2.364195 -0.419587 21.279366 -0.000000 4.356095 -0.245447 18.272366 4.816095 -0.659560 -0.117056 5.352798 0.000000 0.000000 0.000000 1.000000\"],\n",
    "[\"1.343587 -0.786542 0.475143 -23.457169 -0.000000 4.932870 0.081658 1.917110 -4.816095 -0.219429 0.132555 -7.127746 0.000000 0.000000 0.000000 1.000000\"],\n",
    "[\"-2.287396 -2.151856 0.389067 -19.153366 0.000001 4.375375 0.241994 -6.099680 -4.446102 1.107071 -0.200164 9.508217 0.000000 0.000000 0.000000 1.000000\"],\n",
    "[\"2.287395 -3.352772 -0.292006 14.900292 0.000000 3.283841 -0.377046 24.852312 4.446102 1.724908 0.150229 -8.011445 0.000000 0.000000 0.000000 1.000000\"],\n",
    "[\"-2.391057 1.436341 -0.414967 21.048359 -0.000000 4.724960 0.163547 -2.177340 4.391223 0.782100 -0.225953 10.797644 0.000000 0.000000 0.000000 1.000000\"],\n",
    "[\"2.391056 2.768991 0.340816 -16.740793 -0.000000 3.880646 -0.315287 21.764343 -4.391224 1.507737 0.185577 -9.778844 0.000000 0.000000 0.000000 1.000000\"],\n",
    "[\"-2.032528 1.581548 0.428574 -21.128681 -0.000000 4.690794 -0.173103 14.655125 -4.568241 -0.703672 -0.190683 9.034175 0.000000 0.000000 0.000000 1.000000\"],\n",
    "[\"2.032528 0.020361 -0.456820 23.140980 -0.000000 4.999950 0.002228 5.888574 4.568242 -0.009058 0.203251 -10.662543 0.000000 0.000000 0.000000 1.000000\"],\n",
    "[\"-2.768702 -3.494389 -0.226352 11.617624 -0.000001 2.718329 -0.419651 26.982542 4.163447 -2.323776 -0.150525 7.026241 0.000000 0.000000 0.000000 1.000000\"],\n",
    "[\"2.768700 -2.509480 0.332217 -16.310846 0.000000 3.989685 0.301370 -9.068522 -4.163448 -1.668808 0.220925 -11.546243 0.000000 0.000000 0.000000 1.000000\"],\n",
    "[\"-3.512960 3.174526 0.160670 -7.733514 0.000001 2.257896 -0.446115 28.305777 -3.557964 -3.134372 -0.158638 7.431901 0.000000 0.000000 0.000000 1.000000\"],\n",
    "[\"3.512961 2.433554 -0.259556 13.277793 -0.000000 3.647534 0.341987 -11.099342 3.557964 -2.402772 0.256273 -13.313642 0.000000 0.000000 0.000000 1.000000\"],\n",
    "[\"-2.770702 -0.821877 -0.408016 20.700815 -0.000000 4.901548 -0.098733 10.936649 4.162116 -0.547119 -0.271615 13.080730 0.000000 0.000000 0.000000 1.000000\"],\n",
    "[\"2.770702 0.623186 0.411520 -20.275990 -0.000001 4.943636 -0.074864 9.743209 -4.162116 0.414851 0.273947 -14.197341 0.000000 0.000000 0.000000 1.000000\"],\n",
    "[\"-3.234591 -0.374375 0.379437 -18.671864 0.000000 4.975839 0.049095 3.545277 -3.812797 0.317601 -0.321896 15.594807 0.000000 0.000000 0.000000 1.000000\"],\n",
    "[\"3.234591 -1.649549 -0.343750 17.487501 -0.000000 4.507846 -0.216317 16.815870 3.812797 1.399397 0.291621 -15.081041 0.000000 0.000000 0.000000 1.000000\"],\n",
    "[\"-3.561214 1.992272 0.288940 -14.146979 -0.000000 4.116340 -0.283826 20.191320 -3.509666 -2.021534 -0.293183 14.159169 0.000000 0.000000 0.000000 1.000000\"],\n",
    "[\"3.561214 0.883892 -0.339654 17.282705 0.000000 4.838838 0.125923 -0.296121 3.509665 -0.896875 0.344643 -17.732138 0.000000 0.000000 0.000000 1.000000\"],\n",
    "[\"-3.752037 -1.898442 -0.270521 13.826030 -0.000001 4.092747 -0.287218 20.360905 3.304878 -2.155306 -0.307123 14.856137 0.000000 0.000000 0.000000 1.000000\"],\n",
    "[\"3.752037 -0.858717 0.319137 -15.656837 0.000000 4.828268 0.129917 -0.495827 -3.304878 -0.974903 0.362317 -18.615837 0.000000 0.000000 0.000000 1.000000\"],\n",
    "[\"-4.328433 -0.159333 -0.249785 12.789277 -0.000000 4.989859 -0.031829 7.591456 2.502932 -0.275540 -0.431965 21.098270 0.000000 0.000000 0.000000 1.000000\"],\n",
    "[\"4.328433 0.704594 0.240171 -11.708556 0.000000 4.797795 -0.140754 13.037682 -2.502933 1.218486 0.415339 -21.266935 0.000000 0.000000 0.000000 1.000000\"],\n",
    "[\"-4.354185 0.593537 0.238512 -11.625589 0.000000 4.852023 -0.120743 12.037126 -2.457859 -1.051471 -0.422532 20.626606 0.000000 0.000000 0.000000 1.000000\"],\n",
    "[\"4.354185 -0.258017 -0.244428 12.521396 0.000000 4.972373 -0.052488 8.624405 2.457860 0.457086 0.433013 -22.150637 0.000000 0.000000 0.000000 1.000000\"],\n",
    "\t]\n",
    "\traw_string = light_positions[camera_idx][0]\n",
    "\tfloat_values = list(map(float, raw_string.strip().split()))\n",
    "\tmatrix_4x4 = np.array(float_values).reshape((4, 4))\n",
    "\tparams['arealight.to_world'] = mi.Transform4f(matrix_4x4)\n",
    "\tparams.update()\n",
    "\t# print(\"after(no T):\\n\", np.array(params['arealight.to_world']))\n",
    "\n",
    "def save_images(scene, params, dir, spp):\n",
    "    print(\"start rendering\")\n",
    "    for i, sensor in enumerate(scene.sensors()):\n",
    "\t\t\t\t\t_update_light_position(params, i)\n",
    "\t\t\t\t\t\t\t\t\t\t\t\n",
    "\t\t\t\t\tintegrator = mi.load_dict({\n",
    "\t\t\t\t\t\t\t'type': 'prb_path_volume',\n",
    "\t\t\t\t\t\t\t'max_sss_depth': -1,\n",
    "\t\t\t\t\t\t\t'max_path_depth': 3,\n",
    "\t\t\t\t\t})\n",
    "\t\t\t\t\timage = mi.render(scene, sensor=sensor, integrator=integrator, spp=spp)\n",
    "\t\t\t\t\tbitmap = mi.Bitmap(image).convert(\n",
    "\t\t\t\t\t\t\t\t\tpixel_format=mi.Bitmap.PixelFormat.RGB,\n",
    "\t\t\t\t\t\t\t\t\tcomponent_format=mi.Struct.Type.UInt8,\n",
    "\t\t\t\t\t\t\t\t\tsrgb_gamma=True\n",
    "\t\t\t\t\t)\n",
    "\t\t\t\t\tpng_path = dir / f\"ref_view_{i:03d}.png\"\n",
    "\t\t\t\t\tbitmap.write(str(png_path))\n",
    "\n",
    "\t\t\t\t\tbitmap = mi.Bitmap(image).convert(\n",
    "\t\t\t\t\t\t\t\t\t\t\t\t\tpixel_format=mi.Bitmap.PixelFormat.RGB,\n",
    "\t\t\t\t\t\t\t\t\t\t\t\t\tcomponent_format=mi.Struct.Type.Float32,\n",
    "\t\t\t\t\t\t\t\t\t\t\t\t\tsrgb_gamma=False\n",
    "\t\t\t\t\t)\n",
    "\t\t\t\t\texr_path = dir / f\"ref_view_{i:03d}.exr\"\n",
    "\t\t\t\t\tbitmap.write(str(exr_path))\n",
    "\t\t\t\t\tprint(f\"saving: {i}\")"
   ]
  },
  {
   "cell_type": "code",
   "execution_count": null,
   "metadata": {},
   "outputs": [
    {
     "name": "stdout",
     "output_type": "stream",
     "text": [
      "start rendering\n"
     ]
    }
   ],
   "source": [
    "ref_spp=4096\n",
    "scene_name = 'kiwi'\n",
    "ref_dir=Path(\"third_party/kiwi/references\")\n",
    "ref_scene_path=f'third_party/{scene_name}/mts_scene/kiwi_ref.xml'\n",
    "ref_scene = mi.load_file(ref_scene_path)\n",
    "ref_params = mi.traverse(ref_scene)\n",
    "\n",
    "save_images(ref_scene, ref_params, ref_dir, ref_spp)"
   ]
  },
  {
   "cell_type": "markdown",
   "metadata": {},
   "source": []
  },
  {
   "cell_type": "code",
   "execution_count": null,
   "metadata": {},
   "outputs": [
    {
     "name": "stdout",
     "output_type": "stream",
     "text": [
      "******** Running mipmap_pyramid with base learning rate 0.0005 ********\n",
      "Next result location: results/kiwi/mipmap_pyramid_lr_0_0005\n",
      "Preparing Mitsuba scene for optimization\n",
      "Preparing references and sensors for optimization\n",
      "Rendering camera elm__1\n",
      "Reference found at: third_party\\kiwi\\references\\ref_view_000.exr, copying to tmp folder\n",
      "Rendering camera elm__2\n",
      "Reference found at: third_party\\kiwi\\references\\ref_view_001.exr, copying to tmp folder\n",
      "Rendering camera elm__3\n",
      "Reference found at: third_party\\kiwi\\references\\ref_view_002.exr, copying to tmp folder\n",
      "Rendering camera elm__4\n",
      "Reference found at: third_party\\kiwi\\references\\ref_view_003.exr, copying to tmp folder\n",
      "Rendering camera elm__5\n",
      "Reference found at: third_party\\kiwi\\references\\ref_view_004.exr, copying to tmp folder\n",
      "Rendering camera elm__6\n",
      "Reference found at: third_party\\kiwi\\references\\ref_view_005.exr, copying to tmp folder\n",
      "Rendering camera elm__7\n",
      "Reference found at: third_party\\kiwi\\references\\ref_view_006.exr, copying to tmp folder\n",
      "Rendering camera elm__8\n",
      "Reference found at: third_party\\kiwi\\references\\ref_view_007.exr, copying to tmp folder\n",
      "Rendering camera elm__9\n",
      "Reference found at: third_party\\kiwi\\references\\ref_view_008.exr, copying to tmp folder\n",
      "Rendering camera elm__10\n",
      "Reference found at: third_party\\kiwi\\references\\ref_view_009.exr, copying to tmp folder\n",
      "Rendering camera elm__11\n",
      "Reference found at: third_party\\kiwi\\references\\ref_view_010.exr, copying to tmp folder\n",
      "Rendering camera elm__12\n",
      "Reference found at: third_party\\kiwi\\references\\ref_view_011.exr, copying to tmp folder\n",
      "Rendering camera elm__13\n",
      "Reference found at: third_party\\kiwi\\references\\ref_view_012.exr, copying to tmp folder\n",
      "Rendering camera elm__14\n",
      "Reference found at: third_party\\kiwi\\references\\ref_view_013.exr, copying to tmp folder\n",
      "Rendering camera elm__15\n",
      "Reference found at: third_party\\kiwi\\references\\ref_view_014.exr, copying to tmp folder\n",
      "Rendering camera elm__16\n",
      "Reference found at: third_party\\kiwi\\references\\ref_view_015.exr, copying to tmp folder\n",
      "Rendering camera elm__17\n",
      "Reference found at: third_party\\kiwi\\references\\ref_view_016.exr, copying to tmp folder\n",
      "Rendering camera elm__18\n",
      "Reference found at: third_party\\kiwi\\references\\ref_view_017.exr, copying to tmp folder\n",
      "Rendering camera elm__19\n",
      "Reference found at: third_party\\kiwi\\references\\ref_view_018.exr, copying to tmp folder\n",
      "Rendering camera elm__20\n",
      "Reference found at: third_party\\kiwi\\references\\ref_view_019.exr, copying to tmp folder\n",
      "Rendering camera elm__21\n",
      "Reference found at: third_party\\kiwi\\references\\ref_view_020.exr, copying to tmp folder\n",
      "Rendering camera elm__22\n",
      "Reference found at: third_party\\kiwi\\references\\ref_view_021.exr, copying to tmp folder\n",
      "Rendering camera elm__23\n",
      "Reference found at: third_party\\kiwi\\references\\ref_view_022.exr, copying to tmp folder\n",
      "Rendering camera elm__24\n",
      "Reference found at: third_party\\kiwi\\references\\ref_view_023.exr, copying to tmp folder\n",
      "Rendering camera elm__25\n",
      "Reference found at: third_party\\kiwi\\references\\ref_view_024.exr, copying to tmp folder\n",
      "Rendering camera elm__26\n",
      "Reference found at: third_party\\kiwi\\references\\ref_view_025.exr, copying to tmp folder\n",
      "Rendering camera elm__27\n",
      "Reference found at: third_party\\kiwi\\references\\ref_view_026.exr, copying to tmp folder\n",
      "Rendering camera elm__28\n",
      "Reference found at: third_party\\kiwi\\references\\ref_view_027.exr, copying to tmp folder\n",
      "Rendering camera elm__29\n",
      "Reference found at: third_party\\kiwi\\references\\ref_view_028.exr, copying to tmp folder\n",
      "Rendering camera elm__30\n",
      "Reference found at: third_party\\kiwi\\references\\ref_view_029.exr, copying to tmp folder\n",
      "Rendering camera elm__31\n",
      "Reference found at: third_party\\kiwi\\references\\ref_view_030.exr, copying to tmp folder\n",
      "Rendering camera elm__32\n",
      "Reference found at: third_party\\kiwi\\references\\ref_view_031.exr, copying to tmp folder\n",
      "Rendering camera elm__33\n",
      "Reference found at: third_party\\kiwi\\references\\ref_view_032.exr, copying to tmp folder\n",
      "Rendering camera elm__34\n",
      "Reference found at: third_party\\kiwi\\references\\ref_view_033.exr, copying to tmp folder\n",
      "Rendering camera elm__35\n",
      "Reference found at: third_party\\kiwi\\references\\ref_view_034.exr, copying to tmp folder\n",
      "Rendering camera elm__36\n",
      "Reference found at: third_party\\kiwi\\references\\ref_view_035.exr, copying to tmp folder\n",
      "Rendering camera elm__37\n",
      "Reference found at: third_party\\kiwi\\references\\ref_view_036.exr, copying to tmp folder\n",
      "Rendering camera elm__38\n",
      "Reference found at: third_party\\kiwi\\references\\ref_view_037.exr, copying to tmp folder\n",
      "Rendering camera elm__39\n",
      "Reference found at: third_party\\kiwi\\references\\ref_view_038.exr, copying to tmp folder\n",
      "Rendering camera elm__40\n",
      "Reference found at: third_party\\kiwi\\references\\ref_view_039.exr, copying to tmp folder\n",
      "Rendering camera elm__41\n",
      "Reference found at: third_party\\kiwi\\references\\ref_view_040.exr, copying to tmp folder\n",
      "Rendering camera elm__42\n",
      "Reference found at: third_party\\kiwi\\references\\ref_view_041.exr, copying to tmp folder\n",
      "Rendering camera elm__43\n",
      "Reference found at: third_party\\kiwi\\references\\ref_view_042.exr, copying to tmp folder\n",
      "Rendering camera elm__44\n",
      "Reference found at: third_party\\kiwi\\references\\ref_view_043.exr, copying to tmp folder\n",
      "Rendering camera elm__45\n",
      "Reference found at: third_party\\kiwi\\references\\ref_view_044.exr, copying to tmp folder\n",
      "Rendering camera elm__46\n",
      "Reference found at: third_party\\kiwi\\references\\ref_view_045.exr, copying to tmp folder\n",
      "Rendering camera elm__47\n",
      "Reference found at: third_party\\kiwi\\references\\ref_view_046.exr, copying to tmp folder\n",
      "Rendering camera elm__48\n",
      "Reference found at: third_party\\kiwi\\references\\ref_view_047.exr, copying to tmp folder\n",
      "Rendering camera elm__49\n",
      "Reference found at: third_party\\kiwi\\references\\ref_view_048.exr, copying to tmp folder\n",
      "Rendering camera elm__50\n",
      "Reference found at: third_party\\kiwi\\references\\ref_view_049.exr, copying to tmp folder\n",
      "Rendering camera elm__51\n",
      "Reference found at: third_party\\kiwi\\references\\ref_view_050.exr, copying to tmp folder\n",
      "Rendering camera elm__52\n",
      "Reference found at: third_party\\kiwi\\references\\ref_view_051.exr, copying to tmp folder\n",
      "Rendering camera elm__53\n",
      "Reference found at: third_party\\kiwi\\references\\ref_view_052.exr, copying to tmp folder\n",
      "Rendering camera elm__54\n",
      "Reference found at: third_party\\kiwi\\references\\ref_view_053.exr, copying to tmp folder\n",
      "Rendering camera elm__55\n",
      "Reference found at: third_party\\kiwi\\references\\ref_view_054.exr, copying to tmp folder\n",
      "Rendering camera elm__56\n",
      "Reference found at: third_party\\kiwi\\references\\ref_view_055.exr, copying to tmp folder\n",
      "Rendering camera elm__57\n",
      "Reference found at: third_party\\kiwi\\references\\ref_view_056.exr, copying to tmp folder\n",
      "Rendering camera elm__58\n",
      "Reference found at: third_party\\kiwi\\references\\ref_view_057.exr, copying to tmp folder\n",
      "Rendering camera elm__59\n",
      "Reference found at: third_party\\kiwi\\references\\ref_view_058.exr, copying to tmp folder\n",
      "Rendering camera elm__60\n",
      "Reference found at: third_party\\kiwi\\references\\ref_view_059.exr, copying to tmp folder\n",
      "Rendering camera elm__61\n",
      "Reference found at: third_party\\kiwi\\references\\ref_view_060.exr, copying to tmp folder\n",
      "Rendering camera elm__62\n",
      "Reference found at: third_party\\kiwi\\references\\ref_view_061.exr, copying to tmp folder\n",
      "Rendering camera elm__63\n",
      "Reference found at: third_party\\kiwi\\references\\ref_view_062.exr, copying to tmp folder\n",
      "Rendering camera elm__64\n",
      "Reference found at: third_party\\kiwi\\references\\ref_view_063.exr, copying to tmp folder\n",
      "Rendering camera elm__65\n",
      "Reference found at: third_party\\kiwi\\references\\ref_view_064.exr, copying to tmp folder\n",
      "Rendering camera elm__66\n",
      "Reference found at: third_party\\kiwi\\references\\ref_view_065.exr, copying to tmp folder\n"
     ]
    },
    {
     "name": "stderr",
     "output_type": "stream",
     "text": [
      "Loading references for sensor elm__1: 100%|██████████| 1/1 [00:00<00:00, 499.98it/s]\n",
      "Loading references for sensor elm__2: 100%|██████████| 1/1 [00:00<00:00, 499.56it/s]\n",
      "Loading references for sensor elm__3: 100%|██████████| 1/1 [00:00<00:00, 498.85it/s]\n",
      "Loading references for sensor elm__4: 100%|██████████| 1/1 [00:00<00:00, 666.61it/s]\n",
      "Loading references for sensor elm__5: 100%|██████████| 1/1 [00:00<00:00, 499.32it/s]\n",
      "Loading references for sensor elm__6: 100%|██████████| 1/1 [00:00<00:00, 499.80it/s]\n",
      "Loading references for sensor elm__7: 100%|██████████| 1/1 [00:00<00:00, 500.22it/s]\n",
      "Loading references for sensor elm__8: 100%|██████████| 1/1 [00:00<00:00, 499.50it/s]\n",
      "Loading references for sensor elm__9: 100%|██████████| 1/1 [00:00<00:00, 399.84it/s]\n",
      "Loading references for sensor elm__10: 100%|██████████| 1/1 [00:00<00:00, 996.04it/s]\n",
      "Loading references for sensor elm__11: 100%|██████████| 1/1 [00:00<00:00, 665.66it/s]\n",
      "Loading references for sensor elm__12: 100%|██████████| 1/1 [00:00<00:00, 399.23it/s]\n",
      "Loading references for sensor elm__13: 100%|██████████| 1/1 [00:00<00:00, 499.56it/s]\n",
      "Loading references for sensor elm__14: 100%|██████████| 1/1 [00:00<00:00, 667.25it/s]\n",
      "Loading references for sensor elm__15: 100%|██████████| 1/1 [00:00<00:00, 666.40it/s]\n",
      "Loading references for sensor elm__16: 100%|██████████| 1/1 [00:00<00:00, 500.04it/s]\n",
      "Loading references for sensor elm__17: 100%|██████████| 1/1 [00:00<00:00, 499.92it/s]\n",
      "Loading references for sensor elm__18: 100%|██████████| 1/1 [00:00<00:00, 300.37it/s]\n",
      "Loading references for sensor elm__19: 100%|██████████| 1/1 [00:00<00:00, 332.06it/s]\n",
      "Loading references for sensor elm__20: 100%|██████████| 1/1 [00:00<00:00, 499.20it/s]\n",
      "Loading references for sensor elm__21: 100%|██████████| 1/1 [00:00<00:00, 498.02it/s]\n",
      "Loading references for sensor elm__22: 100%|██████████| 1/1 [00:00<00:00, 333.46it/s]\n",
      "Loading references for sensor elm__23: 100%|██████████| 1/1 [00:00<00:00, 399.04it/s]\n",
      "Loading references for sensor elm__24: 100%|██████████| 1/1 [00:00<00:00, 249.81it/s]\n",
      "Loading references for sensor elm__25: 100%|██████████| 1/1 [00:00<00:00, 331.75it/s]\n",
      "Loading references for sensor elm__26: 100%|██████████| 1/1 [00:00<00:00, 399.95it/s]\n",
      "Loading references for sensor elm__27: 100%|██████████| 1/1 [00:00<00:00, 399.80it/s]\n",
      "Loading references for sensor elm__28: 100%|██████████| 1/1 [00:00<00:00, 400.11it/s]\n",
      "Loading references for sensor elm__29: 100%|██████████| 1/1 [00:00<00:00, 498.85it/s]\n",
      "Loading references for sensor elm__30: 100%|██████████| 1/1 [00:00<00:00, 499.92it/s]\n",
      "Loading references for sensor elm__31: 100%|██████████| 1/1 [00:00<00:00, 332.96it/s]\n",
      "Loading references for sensor elm__32: 100%|██████████| 1/1 [00:00<00:00, 499.86it/s]\n",
      "Loading references for sensor elm__33: 100%|██████████| 1/1 [00:00<00:00, 664.08it/s]\n",
      "Loading references for sensor elm__34: 100%|██████████| 1/1 [00:00<00:00, 666.40it/s]\n",
      "Loading references for sensor elm__35: 100%|██████████| 1/1 [00:00<00:00, 500.10it/s]\n",
      "Loading references for sensor elm__36: 100%|██████████| 1/1 [00:00<00:00, 399.00it/s]\n",
      "Loading references for sensor elm__37: 100%|██████████| 1/1 [00:00<00:00, 499.92it/s]\n",
      "Loading references for sensor elm__38: 100%|██████████| 1/1 [00:00<00:00, 498.37it/s]\n",
      "Loading references for sensor elm__39: 100%|██████████| 1/1 [00:00<00:00, 666.61it/s]\n",
      "Loading references for sensor elm__40: 100%|██████████| 1/1 [00:00<00:00, 499.98it/s]\n",
      "Loading references for sensor elm__41: 100%|██████████| 1/1 [00:00<00:00, 666.29it/s]\n",
      "Loading references for sensor elm__42: 100%|██████████| 1/1 [00:00<00:00, 499.74it/s]\n",
      "Loading references for sensor elm__43: 100%|██████████| 1/1 [00:00<00:00, 999.83it/s]\n",
      "Loading references for sensor elm__44: 100%|██████████| 1/1 [00:00<00:00, 666.29it/s]\n",
      "Loading references for sensor elm__45: 100%|██████████| 1/1 [00:00<00:00, 666.82it/s]\n",
      "Loading references for sensor elm__46: 100%|██████████| 1/1 [00:00<00:00, 665.87it/s]\n",
      "Loading references for sensor elm__47: 100%|██████████| 1/1 [00:00<00:00, 666.71it/s]\n",
      "Loading references for sensor elm__48: 100%|██████████| 1/1 [00:00<00:00, 499.74it/s]\n",
      "Loading references for sensor elm__49: 100%|██████████| 1/1 [00:00<00:00, 663.76it/s]\n",
      "Loading references for sensor elm__50: 100%|██████████| 1/1 [00:00<00:00, 399.99it/s]\n",
      "Loading references for sensor elm__51: 100%|██████████| 1/1 [00:00<00:00, 499.86it/s]\n",
      "Loading references for sensor elm__52: 100%|██████████| 1/1 [00:00<00:00, 499.86it/s]\n",
      "Loading references for sensor elm__53: 100%|██████████| 1/1 [00:00<00:00, 666.61it/s]\n",
      "Loading references for sensor elm__54: 100%|██████████| 1/1 [00:00<00:00, 498.67it/s]\n",
      "Loading references for sensor elm__55: 100%|██████████| 1/1 [00:00<00:00, 400.11it/s]\n",
      "Loading references for sensor elm__56: 100%|██████████| 1/1 [00:00<00:00, 499.32it/s]\n",
      "Loading references for sensor elm__57: 100%|██████████| 1/1 [00:00<00:00, 665.97it/s]\n",
      "Loading references for sensor elm__58: 100%|██████████| 1/1 [00:00<00:00, 499.92it/s]\n",
      "Loading references for sensor elm__59: 100%|██████████| 1/1 [00:00<00:00, 663.97it/s]\n",
      "Loading references for sensor elm__60: 100%|██████████| 1/1 [00:00<00:00, 399.95it/s]\n",
      "Loading references for sensor elm__61: 100%|██████████| 1/1 [00:00<00:00, 667.25it/s]\n",
      "Loading references for sensor elm__62: 100%|██████████| 1/1 [00:00<00:00, 666.61it/s]\n",
      "Loading references for sensor elm__63: 100%|██████████| 1/1 [00:00<00:00, 666.61it/s]\n",
      "Loading references for sensor elm__64: 100%|██████████| 1/1 [00:00<00:00, 498.85it/s]\n",
      "Loading references for sensor elm__65: 100%|██████████| 1/1 [00:00<00:00, 666.40it/s]\n",
      "Loading references for sensor elm__66: 100%|██████████| 1/1 [00:00<00:00, 666.61it/s]\n"
     ]
    },
    {
     "name": "stdout",
     "output_type": "stream",
     "text": [
      "Preparing optimization variables\n",
      "Optimizing mat-kiwi's single_scattering_albedo from default value : [[0.5, 0.5, 0.5]]\n",
      "Optimizing mat-kiwi's extinction_coefficient from default value : [[0.01, 0.01, 0.01]]\n",
      "Optimizing mat-kiwi's hg_coefficient from default value : [[0.9, 0.9, 0.9]]\n",
      "Learning rate for (texture) mat-kiwi (single_scattering_albedo) is  0.0005\n",
      "Learning rate for (texture) mat-kiwi (extinction_coefficient) is  0.0005\n",
      "Learning rate for (texture) mat-kiwi (hg_coefficient) is  0.0005\n",
      "Starting optimization\n",
      "Resizing initial value for mat-kiwi.nested_bsdf.single_scattering_albedo.data/mat-kiwi.nested_bsdf.single_scattering_albedo.data to shape: (2048, 2048, 3)\n",
      "Skipping resizing as target shape is already reached.\n",
      "Resizing initial value for mat-kiwi.nested_bsdf.extinction_coefficient.data/mat-kiwi.nested_bsdf.extinction_coefficient.data to shape: (512, 512, 3)\n",
      "Skipping resizing as target shape is already reached.\n",
      "Resizing initial value for mat-kiwi.nested_bsdf.hg_coefficient.data/mat-kiwi.nested_bsdf.hg_coefficient.data to shape: (256, 256, 3)\n",
      "Skipping resizing as target shape is already reached.\n"
     ]
    },
    {
     "name": "stderr",
     "output_type": "stream",
     "text": [
      "Rendering at resolution level 0 (width=436):   0%|          | 0/1024 [00:00<?, ?it/s]"
     ]
    },
    {
     "name": "stdout",
     "output_type": "stream",
     "text": [
      "0.00017733\n",
      "0.00029827\n",
      "0.0133371\n",
      "0.0208881\n"
     ]
    },
    {
     "name": "stderr",
     "output_type": "stream",
     "text": [
      "Rendering at resolution level 0 (width=436):  10%|▉         | 100/1024 [05:11<47:06,  3.06s/it] "
     ]
    },
    {
     "name": "stdout",
     "output_type": "stream",
     "text": [
      "0.000315198\n",
      "0.000543281\n",
      "0.0141353\n"
     ]
    },
    {
     "name": "stderr",
     "output_type": "stream",
     "text": [
      "Rendering at resolution level 0 (width=436):  10%|▉         | 101/1024 [05:14<46:48,  3.04s/it]"
     ]
    },
    {
     "name": "stdout",
     "output_type": "stream",
     "text": [
      "0.0169706\n"
     ]
    },
    {
     "name": "stderr",
     "output_type": "stream",
     "text": [
      "Rendering at resolution level 0 (width=436):  20%|█▉        | 200/1024 [11:08<43:03,  3.13s/it]  "
     ]
    },
    {
     "name": "stdout",
     "output_type": "stream",
     "text": [
      "0.000205065\n",
      "0.000180672\n",
      "0.00382327\n"
     ]
    },
    {
     "name": "stderr",
     "output_type": "stream",
     "text": [
      "Rendering at resolution level 0 (width=436):  20%|█▉        | 201/1024 [11:12<43:13,  3.15s/it]"
     ]
    },
    {
     "name": "stdout",
     "output_type": "stream",
     "text": [
      "0.00490284\n"
     ]
    },
    {
     "name": "stderr",
     "output_type": "stream",
     "text": [
      "Rendering at resolution level 0 (width=436):  29%|██▉       | 300/1024 [16:24<39:32,  3.28s/it]"
     ]
    },
    {
     "name": "stdout",
     "output_type": "stream",
     "text": [
      "0.000137387\n",
      "0.000170139\n",
      "0.00232333\n"
     ]
    },
    {
     "name": "stderr",
     "output_type": "stream",
     "text": [
      "Rendering at resolution level 0 (width=436):  29%|██▉       | 301/1024 [16:27<39:18,  3.26s/it]"
     ]
    },
    {
     "name": "stdout",
     "output_type": "stream",
     "text": [
      "0.00217472\n"
     ]
    },
    {
     "name": "stderr",
     "output_type": "stream",
     "text": [
      "Rendering at resolution level 0 (width=436):  39%|███▉      | 400/1024 [21:44<32:39,  3.14s/it]"
     ]
    },
    {
     "name": "stdout",
     "output_type": "stream",
     "text": [
      "0.00012556\n",
      "0.000127703\n",
      "0.00211821\n"
     ]
    },
    {
     "name": "stderr",
     "output_type": "stream",
     "text": [
      "Rendering at resolution level 0 (width=436):  39%|███▉      | 401/1024 [21:47<32:33,  3.14s/it]"
     ]
    },
    {
     "name": "stdout",
     "output_type": "stream",
     "text": [
      "0.001962\n"
     ]
    },
    {
     "name": "stderr",
     "output_type": "stream",
     "text": [
      "Rendering at resolution level 0 (width=436):  49%|████▉     | 500/1024 [26:53<27:30,  3.15s/it]"
     ]
    },
    {
     "name": "stdout",
     "output_type": "stream",
     "text": [
      "7.51668e-05\n",
      "0.000114406\n",
      "0.00202325\n"
     ]
    },
    {
     "name": "stderr",
     "output_type": "stream",
     "text": [
      "Rendering at resolution level 0 (width=436):  49%|████▉     | 501/1024 [26:56<27:17,  3.13s/it]"
     ]
    },
    {
     "name": "stdout",
     "output_type": "stream",
     "text": [
      "0.00200594\n"
     ]
    },
    {
     "name": "stderr",
     "output_type": "stream",
     "text": [
      "Rendering at resolution level 0 (width=436):  59%|█████▊    | 600/1024 [32:57<22:35,  3.20s/it]  "
     ]
    },
    {
     "name": "stdout",
     "output_type": "stream",
     "text": [
      "0.000106044\n",
      "8.86694e-05\n",
      "0.00193706\n"
     ]
    },
    {
     "name": "stderr",
     "output_type": "stream",
     "text": [
      "Rendering at resolution level 0 (width=436):  59%|█████▊    | 601/1024 [33:00<22:27,  3.18s/it]"
     ]
    },
    {
     "name": "stdout",
     "output_type": "stream",
     "text": [
      "0.00192846\n"
     ]
    },
    {
     "name": "stderr",
     "output_type": "stream",
     "text": [
      "Rendering at resolution level 0 (width=436):  68%|██████▊   | 700/1024 [38:08<16:45,  3.10s/it]"
     ]
    },
    {
     "name": "stdout",
     "output_type": "stream",
     "text": [
      "6.81633e-05\n",
      "9.98785e-05\n",
      "0.00185262\n"
     ]
    },
    {
     "name": "stderr",
     "output_type": "stream",
     "text": [
      "Rendering at resolution level 0 (width=436):  68%|██████▊   | 701/1024 [38:11<16:40,  3.10s/it]"
     ]
    },
    {
     "name": "stdout",
     "output_type": "stream",
     "text": [
      "0.00201365\n"
     ]
    },
    {
     "name": "stderr",
     "output_type": "stream",
     "text": [
      "Rendering at resolution level 0 (width=436):  78%|███████▊  | 800/1024 [43:20<11:20,  3.04s/it]"
     ]
    },
    {
     "name": "stdout",
     "output_type": "stream",
     "text": [
      "8.41004e-05\n",
      "0.00012462\n",
      "0.00192636\n"
     ]
    },
    {
     "name": "stderr",
     "output_type": "stream",
     "text": [
      "Rendering at resolution level 0 (width=436):  78%|███████▊  | 801/1024 [43:23<11:18,  3.04s/it]"
     ]
    },
    {
     "name": "stdout",
     "output_type": "stream",
     "text": [
      "0.00193626\n"
     ]
    },
    {
     "name": "stderr",
     "output_type": "stream",
     "text": [
      "Rendering at resolution level 0 (width=436):  88%|████████▊ | 900/1024 [48:24<06:34,  3.18s/it]"
     ]
    },
    {
     "name": "stdout",
     "output_type": "stream",
     "text": [
      "8.5046e-05\n",
      "0.000112412\n",
      "0.00196109\n"
     ]
    },
    {
     "name": "stderr",
     "output_type": "stream",
     "text": [
      "Rendering at resolution level 0 (width=436):  88%|████████▊ | 901/1024 [48:27<06:27,  3.15s/it]"
     ]
    },
    {
     "name": "stdout",
     "output_type": "stream",
     "text": [
      "0.00192906\n"
     ]
    },
    {
     "name": "stderr",
     "output_type": "stream",
     "text": [
      "Rendering at resolution level 0 (width=436):  98%|█████████▊| 1000/1024 [53:29<01:13,  3.08s/it]"
     ]
    },
    {
     "name": "stdout",
     "output_type": "stream",
     "text": [
      "0.000114253\n",
      "0.000102042\n",
      "0.00181201\n"
     ]
    },
    {
     "name": "stderr",
     "output_type": "stream",
     "text": [
      "Rendering at resolution level 0 (width=436):  98%|█████████▊| 1001/1024 [53:32<01:10,  3.05s/it]"
     ]
    },
    {
     "name": "stdout",
     "output_type": "stream",
     "text": [
      "0.00188568\n"
     ]
    },
    {
     "name": "stderr",
     "output_type": "stream",
     "text": [
      "Rendering at resolution level 0 (width=436): 100%|██████████| 1024/1024 [55:39<00:00,  3.26s/it]\n"
     ]
    },
    {
     "name": "stdout",
     "output_type": "stream",
     "text": [
      "Re-rendering final frame with 8192 spp\n",
      "Saving optimized textures\n",
      "--------- Done! ----------\n"
     ]
    }
   ],
   "source": [
    "def format_float(f):\n",
    "  \"\"\"Formats a float such that 0.1 becomes \"0_1\", 10.0 becomes \"10_0\", etc.\"\"\"\n",
    "  return str(f).replace('.', '_')\n",
    "\n",
    "scene_name = 'kiwi'\n",
    "technique = 'mipmap_pyramid'\n",
    "base_learning_rate = 0.0005\n",
    "\n",
    "skip_existing = False\n",
    "\n",
    "print(\n",
    "    f'******** Running {technique} with base learning rate'\n",
    "    f' {base_learning_rate} ********'\n",
    ")\n",
    "\n",
    "override_bindings = []\n",
    "result_folder = f'results/{scene_name}/{technique}'\n",
    "\n",
    "result_folder += f'_lr_{format_float(base_learning_rate)}'\n",
    "override_bindings.append(\n",
    "    f'SceneConfig.base_learning_rate={base_learning_rate}'\n",
    ")\n",
    "\n",
    "# Ensure that the default tmp folder is used\n",
    "override_bindings.append(\"SceneConfig.tmp_folder=''\")\n",
    "override_bindings.append(\n",
    "    f'SceneConfig.use_gradient_filtering=False'\n",
    ")\n",
    "\n",
    "override_bindings.append(\n",
    "    f\"SceneConfig.result_folder='{result_folder}'\"\n",
    ")\n",
    "\n",
    "if technique == 'gradient_filtering':\n",
    "    gin_config_name = f'{scene_name}/naive'\n",
    "else:\n",
    "    gin_config_name = f'{scene_name}/{technique}'\n",
    "\n",
    "print(f'Next result location: {result_folder}')\n",
    "if skip_existing and Path(result_folder).exists():\n",
    "    print('Skipping, already present')\n",
    "else:\n",
    "    # Run the config\n",
    "    optimization_cli.run_config(gin_config_name, override_bindings, sss_config=True)"
   ]
  },
  {
   "cell_type": "markdown",
   "metadata": {},
   "source": [
    "# Figure starts here"
   ]
  },
  {
   "cell_type": "code",
   "execution_count": null,
   "metadata": {},
   "outputs": [],
   "source": [
    "import matplotlib.pyplot as plt\n",
    "from practical_reconstruction import figutils\n",
    "from matplotlib import gridspec\n",
    "\n",
    "def figure_grid_setup(image_shape,image_crop_shape,n_columns = 7,inner_space=0.0,outer_space=0.1,figwidth=figutils.TEXT_WIDTH):\n",
    "  # Image aspect ratios\n",
    "  h, w = image_shape\n",
    "  h_crop, w_crop = image_crop_shape\n",
    "\n",
    "  top_inner_rows = 1\n",
    "  top_inner_cols = n_columns\n",
    "  # Spacing in the inner gridspec\n",
    "  top_inner_wspace = inner_space\n",
    "  # same vertical spacing as horizontal spacing\n",
    "  top_inner_hspace = top_inner_wspace * figutils.gridspec_aspect(\n",
    "      n_rows=1, n_cols=1, w=[w]*top_inner_cols, h=[h]\n",
    "  )\n",
    "  top_height_ratios = [h]\n",
    "  top_inner_aspect = figutils.gridspec_aspect(\n",
    "      n_rows=top_inner_rows,\n",
    "      n_cols=top_inner_cols,\n",
    "      w=[w] * top_inner_cols,\n",
    "      h=top_height_ratios,\n",
    "      wspace=top_inner_wspace,\n",
    "      hspace=top_inner_hspace,\n",
    "  )\n",
    "  # print(top_inner_aspect)\n",
    "\n",
    "  # Spacing in the main griddpec\n",
    "  outer_rows = 3\n",
    "  outer_cols = 1\n",
    "  outer_wspace = 0.0\n",
    "  outer_hspace = outer_space\n",
    "  # If width is 1, we need the sum of the inverses for the height (single column)\n",
    "  # If height is 1, we need the sum for the width (single row)\n",
    "  outer_aspect = figutils.gridspec_aspect(\n",
    "      n_rows=outer_rows,\n",
    "      n_cols=outer_cols,\n",
    "      w=1,\n",
    "      h=[1 / top_inner_aspect] * outer_rows,\n",
    "      wspace=outer_wspace,\n",
    "      hspace=outer_hspace,\n",
    "  )\n",
    "\n",
    "  fig = plt.figure(\n",
    "      1, figsize=(figwidth, figwidth / outer_aspect)\n",
    "  )\n",
    "\n",
    "  outer_gs = fig.add_gridspec(\n",
    "      outer_rows,\n",
    "      outer_cols,\n",
    "      hspace=outer_hspace,\n",
    "      wspace=outer_wspace,\n",
    "      height_ratios=[1 / top_inner_aspect] * outer_rows,\n",
    "      width_ratios=[1]*outer_cols,\n",
    "  )\n",
    "\n",
    "  top_inner_gss = []\n",
    "  for row in range(outer_rows):\n",
    "    top_inner_gs = gridspec.GridSpecFromSubplotSpec(\n",
    "        top_inner_rows,\n",
    "        top_inner_cols,\n",
    "        subplot_spec=outer_gs[row],\n",
    "        wspace=top_inner_wspace,\n",
    "        hspace=top_inner_wspace,\n",
    "        width_ratios=[h] * top_inner_cols,\n",
    "        height_ratios=top_height_ratios,\n",
    "    )\n",
    "    top_inner_gss.append(top_inner_gs)\n",
    "\n",
    "  return (\n",
    "      fig,\n",
    "      (top_inner_gss, top_inner_rows, top_inner_cols),\n",
    "  )"
   ]
  },
  {
   "cell_type": "code",
   "execution_count": null,
   "metadata": {},
   "outputs": [
    {
     "ename": "FileNotFoundError",
     "evalue": "[Errno 2] No such file or directory: 'results/kiwi/mipmap_pyramid_lr_0_0005/frames/camera_020_iter_4095_spp_8192.exr'",
     "output_type": "error",
     "traceback": [
      "\u001b[1;31m---------------------------------------------------------------------------\u001b[0m",
      "\u001b[1;31mFileNotFoundError\u001b[0m                         Traceback (most recent call last)",
      "Cell \u001b[1;32mIn[7], line 55\u001b[0m\n\u001b[0;32m     52\u001b[0m \u001b[38;5;28;01mfor\u001b[39;00m sensor_idx, crop_size, crop_offset \u001b[38;5;129;01min\u001b[39;00m \u001b[38;5;28mzip\u001b[39m(sensor_indices,crop_sizes,crop_offsets):\n\u001b[0;32m     54\u001b[0m   our_filename \u001b[38;5;241m=\u001b[39m \u001b[38;5;124mf\u001b[39m\u001b[38;5;124m'\u001b[39m\u001b[38;5;132;01m{\u001b[39;00mscene_folder\u001b[38;5;132;01m}\u001b[39;00m\u001b[38;5;124m/mipmap_pyramid_lr_\u001b[39m\u001b[38;5;132;01m{\u001b[39;00mlr\u001b[38;5;132;01m}\u001b[39;00m\u001b[38;5;124m/frames/camera_\u001b[39m\u001b[38;5;132;01m{\u001b[39;00msensor_idx\u001b[38;5;132;01m:\u001b[39;00m\u001b[38;5;124m03d\u001b[39m\u001b[38;5;132;01m}\u001b[39;00m\u001b[38;5;124m_iter_4095_spp_8192.exr\u001b[39m\u001b[38;5;124m'\u001b[39m\n\u001b[1;32m---> 55\u001b[0m   our_image \u001b[38;5;241m=\u001b[39m \u001b[43mmitsuba_io\u001b[49m\u001b[38;5;241;43m.\u001b[39;49m\u001b[43mread_bitmap\u001b[49m\u001b[43m(\u001b[49m\u001b[43mour_filename\u001b[49m\u001b[43m)\u001b[49m\u001b[38;5;241m.\u001b[39mconvert(\n\u001b[0;32m     56\u001b[0m       pixel_format\u001b[38;5;241m=\u001b[39mmi\u001b[38;5;241m.\u001b[39mBitmap\u001b[38;5;241m.\u001b[39mPixelFormat\u001b[38;5;241m.\u001b[39mRGB,\n\u001b[0;32m     57\u001b[0m       component_format\u001b[38;5;241m=\u001b[39mmi\u001b[38;5;241m.\u001b[39mStruct\u001b[38;5;241m.\u001b[39mType\u001b[38;5;241m.\u001b[39mFloat32,\n\u001b[0;32m     58\u001b[0m   )\n\u001b[0;32m     59\u001b[0m   our_images\u001b[38;5;241m.\u001b[39mappend(image_util\u001b[38;5;241m.\u001b[39mtonemap(boost\u001b[38;5;241m*\u001b[39mour_image))\n\u001b[0;32m     60\u001b[0m   ref_masked_filename \u001b[38;5;241m=\u001b[39m (\n\u001b[0;32m     61\u001b[0m       \u001b[38;5;124mf\u001b[39m\u001b[38;5;124m'\u001b[39m\u001b[38;5;132;01m{\u001b[39;00mref_masked_scene_folder\u001b[38;5;132;01m}\u001b[39;00m\u001b[38;5;124m/ref_view_\u001b[39m\u001b[38;5;132;01m{\u001b[39;00msensor_idx\u001b[38;5;132;01m:\u001b[39;00m\u001b[38;5;124m03d\u001b[39m\u001b[38;5;132;01m}\u001b[39;00m\u001b[38;5;124m.exr\u001b[39m\u001b[38;5;124m'\u001b[39m\n\u001b[0;32m     62\u001b[0m   )\n",
      "File \u001b[1;32mc:\\Users\\mayuf\\source\\repos\\practical-inverse-rendering-of-textured-and-translucent-appearance\\python\\core\\mitsuba_io.py:57\u001b[0m, in \u001b[0;36mread_bitmap\u001b[1;34m(filename)\u001b[0m\n\u001b[0;32m     45\u001b[0m \u001b[38;5;250m\u001b[39m\u001b[38;5;124;03m\"\"\"Reads out a Mitsuba Bitmap image from the specified filepath.\u001b[39;00m\n\u001b[0;32m     46\u001b[0m \n\u001b[0;32m     47\u001b[0m \u001b[38;5;124;03mThis function is a thin wrapper around Mitsuba's Bitmap class to read image\u001b[39;00m\n\u001b[1;32m   (...)\u001b[0m\n\u001b[0;32m     54\u001b[0m \u001b[38;5;124;03m  A Mitsuba Bitmap with the loaded image.\u001b[39;00m\n\u001b[0;32m     55\u001b[0m \u001b[38;5;124;03m\"\"\"\u001b[39;00m\n\u001b[0;32m     56\u001b[0m stream \u001b[38;5;241m=\u001b[39m mi\u001b[38;5;241m.\u001b[39mMemoryStream()\n\u001b[1;32m---> 57\u001b[0m \u001b[38;5;28;01mwith\u001b[39;00m \u001b[38;5;28;43mopen\u001b[39;49m\u001b[43m(\u001b[49m\u001b[43mfilename\u001b[49m\u001b[43m,\u001b[49m\u001b[43m \u001b[49m\u001b[38;5;124;43m'\u001b[39;49m\u001b[38;5;124;43mrb\u001b[39;49m\u001b[38;5;124;43m'\u001b[39;49m\u001b[43m)\u001b[49m \u001b[38;5;28;01mas\u001b[39;00m f:\n\u001b[0;32m     58\u001b[0m   stream\u001b[38;5;241m.\u001b[39mwrite(f\u001b[38;5;241m.\u001b[39mread())\n\u001b[0;32m     59\u001b[0m stream\u001b[38;5;241m.\u001b[39mseek(\u001b[38;5;241m0\u001b[39m)\n",
      "\u001b[1;31mFileNotFoundError\u001b[0m: [Errno 2] No such file or directory: 'results/kiwi/mipmap_pyramid_lr_0_0005/frames/camera_020_iter_4095_spp_8192.exr'"
     ]
    }
   ],
   "source": [
    "import drjit as dr\n",
    "import numpy as np\n",
    "from core import mitsuba_io\n",
    "from core import image_util\n",
    "\n",
    "def l2_error(ref, img):\n",
    "  return dr.mean(dr.square(ref - img)).array[0]\n",
    "\n",
    "\n",
    "def l1_error(ref, img):\n",
    "  return dr.mean(dr.abs(ref - img)).array[0]\n",
    "\n",
    "sensor_indices = [20, 1, 25, 12]\n",
    "\n",
    "lr = '0_0005'\n",
    "normalmap_lr = '0_01'\n",
    "scene_folder = 'results/kiwi'\n",
    "\n",
    "ref_scene_folder = (\n",
    "    'third_party/kiwi/unmasked_references'\n",
    ")\n",
    "ref_masked_scene_folder = (\n",
    "    'third_party/kiwi/references'\n",
    ")\n",
    "deng_scene_folder = (\n",
    "    'third_party/kiwi/deng_optimized/'\n",
    ")\n",
    "\n",
    "crop_sizes = [\n",
    "    (110, 110),\n",
    "    (126, 126),\n",
    "    (94, 94),\n",
    "    (113, 113),\n",
    "]\n",
    "\n",
    "crop_offsets = [\n",
    "    (159, 92),\n",
    "    (150, 75),\n",
    "    (168, 96),\n",
    "    (157, 86),\n",
    "]\n",
    "\n",
    "our_images = []\n",
    "ref_masked_images = []\n",
    "ref_images = []\n",
    "deng_images = []\n",
    "errors_l2_ours = []\n",
    "errors_l2_deng = []\n",
    "\n",
    "boost = np.sqrt(2)\n",
    "\n",
    "for sensor_idx, crop_size, crop_offset in zip(sensor_indices,crop_sizes,crop_offsets):\n",
    "\n",
    "  our_filename = f'{scene_folder}/mipmap_pyramid_lr_{lr}/frames/camera_{sensor_idx:03d}_iter_4095_spp_8192.exr'\n",
    "  our_image = mitsuba_io.read_bitmap(our_filename).convert(\n",
    "      pixel_format=mi.Bitmap.PixelFormat.RGB,\n",
    "      component_format=mi.Struct.Type.Float32,\n",
    "  )\n",
    "  our_images.append(image_util.tonemap(boost*our_image))\n",
    "  ref_masked_filename = (\n",
    "      f'{ref_masked_scene_folder}/ref_view_{sensor_idx:03d}.exr'\n",
    "  )\n",
    "  ref_masked_image = mitsuba_io.read_bitmap(ref_masked_filename).convert(\n",
    "      pixel_format=mi.Bitmap.PixelFormat.RGB,\n",
    "      component_format=mi.Struct.Type.Float32,\n",
    "  )\n",
    "  ref_masked_images.append(image_util.tonemap(ref_masked_image))\n",
    "\n",
    "  ref_filename = f'{ref_scene_folder}/kiwi_{sensor_idx:05d}.exr'\n",
    "  ref_image = mitsuba_io.read_bitmap(ref_filename).convert(\n",
    "      pixel_format=mi.Bitmap.PixelFormat.RGB,\n",
    "      component_format=mi.Struct.Type.Float32,\n",
    "  )\n",
    "  ref_images.append(\n",
    "      image_util.tonemap(\n",
    "          boost*image_util.resize_to_width(ref_image, ref_image.size()[0] // 2)\n",
    "      )\n",
    "  )\n",
    "  deng_filename = f'{deng_scene_folder}/optimized_{sensor_idx:03d}_spp_256.exr'\n",
    "  deng_image = mitsuba_io.read_bitmap(deng_filename).convert(\n",
    "      pixel_format=mi.Bitmap.PixelFormat.RGB,\n",
    "      component_format=mi.Struct.Type.Float32,\n",
    "  )\n",
    "  deng_images.append(image_util.tonemap(boost*deng_image))\n",
    "\n",
    "  errors_l2_ours.append(\n",
    "      l2_error(\n",
    "          figutils.crop_image(\n",
    "              mi.TensorXf(ref_masked_image), crop_offset, crop_size\n",
    "          ),\n",
    "          figutils.crop_image(\n",
    "              mi.TensorXf(our_image), crop_offset, crop_size\n",
    "          ),\n",
    "      )\n",
    "  )\n",
    "  errors_l2_deng.append(\n",
    "      l2_error(\n",
    "          figutils.crop_image(\n",
    "              mi.TensorXf(ref_masked_image), crop_offset, crop_size\n",
    "          ),\n",
    "          figutils.crop_image(\n",
    "              mi.TensorXf(deng_image), crop_offset, crop_size\n",
    "          ),\n",
    "      )\n",
    "  )\n",
    "\n",
    "our_images = [\n",
    "    figutils.crop_image(np.array(image), crop_offsets[i], crop_sizes[i])\n",
    "    for i,image in enumerate(our_images)\n",
    "]\n",
    "ref_images = [\n",
    "    figutils.crop_image(np.array(image), crop_offsets[i], crop_sizes[i])\n",
    "    for i,image in enumerate(ref_images)\n",
    "]\n",
    "deng_images = [\n",
    "    figutils.crop_image(np.array(image), crop_offsets[i], crop_sizes[i])\n",
    "    for i,image in enumerate(deng_images)\n",
    "]"
   ]
  },
  {
   "cell_type": "code",
   "execution_count": null,
   "metadata": {},
   "outputs": [],
   "source": [
    "FIGURE_DIR = \"figures/pdfs\"\n",
    "FIGURE_NAME = \"deng_comparison\"\n",
    "\n",
    "def error_format(error, scale):\n",
    "  return f\"{error*scale:.3f}\"\n",
    "\n",
    "(\n",
    "    fig,\n",
    "    (top_inner_gss, top_inner_rows, top_inner_cols),\n",
    ") = figure_grid_setup(\n",
    "    our_images[0].shape[:2],\n",
    "    our_images[0].shape[:2],\n",
    "    n_columns=len(sensor_indices),\n",
    "    inner_space=0.03,\n",
    "    outer_space=0.15,\n",
    "    figwidth=figutils.COLUMN_WIDTH,\n",
    ")\n",
    "\n",
    "\n",
    "scale = 1000\n",
    "scale_txt = figutils.math_label(r\"\\text{$\\times 10^3$}\")\n",
    "\n",
    "line_width = 0.75\n",
    "crop_color = 'orange'\n",
    "crop_color = (55/255.0,118/255.0,171/255.0,1.0)\n",
    "\n",
    "row_titles = [\n",
    "    \"Deng et al. 2022\",\n",
    "    \"Ours\",\n",
    "    \"Reference\",\n",
    "]\n",
    "\n",
    "for row, top_inner_gs in enumerate(top_inner_gss):\n",
    "  if row == 0:\n",
    "    images = deng_images\n",
    "    errors = errors_l2_deng\n",
    "  elif row == 1:\n",
    "    images = our_images\n",
    "    errors = errors_l2_ours\n",
    "  elif row == 2:\n",
    "    images = ref_images\n",
    "\n",
    "  for col in range(top_inner_cols):\n",
    "    ax = fig.add_subplot(top_inner_gs[col])\n",
    "    ax.spines[:].set_color(crop_color)\n",
    "    ax.spines[:].set_linewidth(line_width)\n",
    "    figutils.disable_ticks(ax)\n",
    "    image = images[col]\n",
    "\n",
    "    # alpha_channel = np.zeros((image.shape[0], image.shape[1]), dtype=np.uint8) + 255\n",
    "    # black_pixels = np.all(image == 0, axis=-1)\n",
    "    # alpha_channel[black_pixels] = 0\n",
    "    # image_with_alpha = np.dstack((image, alpha_channel))\n",
    "\n",
    "    ax.imshow(image, aspect=\"equal\")\n",
    "    if col == 0:\n",
    "      ax.set_ylabel(row_titles[row],labelpad=1.5)\n",
    "\n",
    "    if row == 0 or row == 1:\n",
    "      label = error_format(errors[col], scale)\n",
    "    elif row == 2:\n",
    "      label = r\"$L_2$ \" + scale_txt + \" error\" if col == 0 else \"\"\n",
    "    ax.set_xlabel(label, labelpad=1.5)\n",
    "\n",
    "figutils.force_post_crop_size(fig, figutils.COLUMN_WIDTH)"
   ]
  },
  {
   "cell_type": "code",
   "execution_count": null,
   "metadata": {},
   "outputs": [],
   "source": [
    "figutils.savefig(\n",
    "    fig,\n",
    "    name=Path(FIGURE_NAME),\n",
    "    fig_directory=Path(FIGURE_DIR),\n",
    "    dpi=300,\n",
    "    pad_inches=0.005,\n",
    "    bbox_inches=\"tight\",\n",
    "    compress=False,\n",
    "    target_width=figutils.COLUMN_WIDTH,\n",
    "    backend=None,\n",
    ")"
   ]
  },
  {
   "cell_type": "code",
   "execution_count": null,
   "metadata": {},
   "outputs": [],
   "source": []
  }
 ],
 "metadata": {
  "kernelspec": {
   "display_name": "practical-inverse-rendering",
   "language": "python",
   "name": "python3"
  },
  "language_info": {
   "codemirror_mode": {
    "name": "ipython",
    "version": 3
   },
   "file_extension": ".py",
   "mimetype": "text/x-python",
   "name": "python",
   "nbconvert_exporter": "python",
   "pygments_lexer": "ipython3",
   "version": "3.10.18"
  }
 },
 "nbformat": 4,
 "nbformat_minor": 2
}
